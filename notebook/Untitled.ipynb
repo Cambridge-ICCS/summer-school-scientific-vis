{
 "cells": [
  {
   "cell_type": "code",
   "execution_count": 3,
   "id": "b8c8595e-2e5b-4add-8cde-a5ca859e7a2d",
   "metadata": {
    "editable": true,
    "slideshow": {
     "slide_type": "slide"
    },
    "tags": []
   },
   "outputs": [
    {
     "name": "stdout",
     "output_type": "stream",
     "text": [
      "git version 2.39.3 (Apple Git-146)\n"
     ]
    }
   ],
   "source": [
    "!git --version"
   ]
  },
  {
   "cell_type": "code",
   "execution_count": 4,
   "id": "0a4c7d66-de16-4b80-9872-e474beb4375a",
   "metadata": {
    "editable": true,
    "slideshow": {
     "slide_type": "subslide"
    },
    "tags": []
   },
   "outputs": [],
   "source": [
    "!git config --global user.name"
   ]
  },
  {
   "cell_type": "code",
   "execution_count": null,
   "id": "19a8ec5f-6488-4247-8f22-c0ffca48d098",
   "metadata": {
    "editable": true,
    "slideshow": {
     "slide_type": "slide"
    },
    "tags": []
   },
   "outputs": [],
   "source": [
    "!git --version"
   ]
  },
  {
   "cell_type": "code",
   "execution_count": 5,
   "id": "d3b37ffd-bd04-458d-acac-7e81be8d436e",
   "metadata": {
    "editable": true,
    "slideshow": {
     "slide_type": "subslide"
    },
    "tags": []
   },
   "outputs": [
    {
     "name": "stdout",
     "output_type": "stream",
     "text": [
      "Current Git Username:\n",
      "\n",
      "Current Git Email:\n",
      "je484@cam.ac.uk\n"
     ]
    }
   ],
   "source": [
    "# Checking Current Git User\n",
    "\n",
    "#This notebook will help you check the current Git user configuration.\n",
    "\n",
    "## Checking Git Username and Email\n",
    "\n",
    "# Check the current Git username\n",
    "print(\"Current Git Username:\")\n",
    "!git config --global user.name\n",
    "\n",
    "# Check the current Git email\n",
    "print(\"\\nCurrent Git Email:\")\n",
    "!git config --global user.email\n",
    "\n",
    "\n"
   ]
  },
  {
   "cell_type": "code",
   "execution_count": null,
   "id": "c26a6adb-c487-4c63-ad79-a825b7f934d4",
   "metadata": {
    "editable": true,
    "slideshow": {
     "slide_type": ""
    },
    "tags": []
   },
   "outputs": [],
   "source": []
  },
  {
   "cell_type": "code",
   "execution_count": null,
   "id": "1043b3f9-f44f-4cfa-b31c-89ee3b1c27c8",
   "metadata": {
    "editable": true,
    "slideshow": {
     "slide_type": ""
    },
    "tags": []
   },
   "outputs": [],
   "source": []
  }
 ],
 "metadata": {
  "kernelspec": {
   "display_name": "Python 3 (ipykernel)",
   "language": "python",
   "name": "python3"
  },
  "language_info": {
   "codemirror_mode": {
    "name": "ipython",
    "version": 3
   },
   "file_extension": ".py",
   "mimetype": "text/x-python",
   "name": "python",
   "nbconvert_exporter": "python",
   "pygments_lexer": "ipython3",
   "version": "3.11.9"
  },
  "toc": {
   "base_numbering": 1
  }
 },
 "nbformat": 4,
 "nbformat_minor": 5
}
